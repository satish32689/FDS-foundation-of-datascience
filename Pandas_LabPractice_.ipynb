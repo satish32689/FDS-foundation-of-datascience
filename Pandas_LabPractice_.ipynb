{
  "cells": [
    {
      "cell_type": "markdown",
      "metadata": {
        "id": "view-in-github",
        "colab_type": "text"
      },
      "source": [
        "<a href=\"https://colab.research.google.com/github/satish32689/FDS-foundation-of-datascience/blob/main/Pandas_LabPractice_.ipynb\" target=\"_parent\"><img src=\"https://colab.research.google.com/assets/colab-badge.svg\" alt=\"Open In Colab\"/></a>"
      ]
    },
    {
      "cell_type": "markdown",
      "metadata": {
        "id": "8V9aA8GeLsG9"
      },
      "source": [
        ".Write a Pandas program to create a dataframe from a dictionary and display\n",
        "it.\n",
        "Sample data: {'X':[78,85,96,80,86], 'Y':[84,94,89,83,86],'Z':[86,97,96,72,83]}"
      ]
    },
    {
      "cell_type": "code",
      "execution_count": null,
      "metadata": {
        "colab": {
          "base_uri": "https://localhost:8080/"
        },
        "id": "F2-yXUxBLxEa",
        "outputId": "74fb47f0-fd08-4aef-b060-6f12ba961103"
      },
      "outputs": [
        {
          "name": "stdout",
          "output_type": "stream",
          "text": [
            "    X   Y   Z\n",
            "0  78  84  86\n",
            "1  85  94  97\n",
            "2  96  89  96\n",
            "3  80  83  72\n",
            "4  86  86  83\n"
          ]
        }
      ],
      "source": [
        "import pandas as pd\n",
        "df=pd.DataFrame({'X':[78,85,96,80,86,],\n",
        "                 'Y':[84,94,89,83,86],\n",
        "                 'Z':[86,97,96,72,83]})\n",
        "print(df)"
      ]
    },
    {
      "cell_type": "markdown",
      "metadata": {
        "id": "Y0QxPQD_MSmM"
      },
      "source": [
        ". Write a Pandas program to create and display a DataFrame from a specified dictionary data which has the index labels.\n",
        "Sample Python dictionary data and list labels:\n",
        "exam_data = {'name': ['Anastasia', 'Dima', 'Katherine', 'James', 'Emily',\n",
        "'Michael', 'Matthew', 'Laura', 'Kevin', 'Jonas'],\n",
        "'score': [12.5, 9, 16.5, np.nan, 9, 20, 14.5, np.nan, 8, 19],\n",
        "'attempts': [1, 3, 2, 3, 2, 3, 1, 1, 2, 1],\n",
        "'qualify': ['yes', 'no', 'yes', 'no', 'no', 'yes', 'yes', 'no', 'no', 'yes']}\n",
        "labels = ['a', 'b', 'c', 'd', 'e', 'f', 'g', 'h', 'i', 'j']"
      ]
    },
    {
      "cell_type": "code",
      "execution_count": null,
      "metadata": {
        "colab": {
          "base_uri": "https://localhost:8080/"
        },
        "id": "LNzKx4bcMWLO",
        "outputId": "70a01ac4-e779-4d5e-c61e-e1f26e2ae4cf"
      },
      "outputs": [
        {
          "output_type": "stream",
          "name": "stdout",
          "text": [
            "        name  score  ateempts qualify\n",
            "a  anastasia   12.5         1     yes\n",
            "b       dima    9.0         3      no\n",
            "c  Katherine   16.5         2     yes\n",
            "d      james    NaN         3      no\n",
            "e      emily    9.0         2      no\n",
            "f    michael   20.0         3     yes\n",
            "g    matthew   14.5         1     yes\n",
            "h      laura    NaN         1      no\n",
            "i      kevin    8.0         2      no\n",
            "j      jonas   19.0         1     yes\n",
            "        name  score  ateempts qualify\n",
            "a  anastasia   12.5         1     yes\n",
            "b       dima    9.0         3      no\n",
            "c  Katherine   16.5         2     yes\n",
            "d      james    NaN         3      no\n",
            "e      emily    9.0         2      no\n",
            "f    michael   20.0         3     yes\n",
            "g    matthew   14.5         1     yes\n",
            "h      laura    NaN         1      no\n",
            "i      kevin    8.0         2      no\n",
            "j      jonas   19.0         1     yes\n"
          ]
        }
      ],
      "source": [
        "import pandas as pd\n",
        "import numpy as np\n",
        "\n",
        "exam_date = {'name':['anastasia','dima','Katherine','james','emily','michael','matthew','laura','kevin','jonas'],\n",
        "             'score':[12.5,9,16.5,np.nan,9,20,14.5,np.nan,8,19],\n",
        "             'ateempts':[1,3,2,3,2,3,1,1,2,1],\n",
        "             'qualify':['yes','no','yes','no','no','yes','yes','no','no','yes']}\n",
        "labels=['a','b','c','d','e','f','g','h','i','j']\n",
        "\n",
        "df=pd.DataFrame(exam_date, index=labels)\n",
        "print(df)"
      ]
    },
    {
      "cell_type": "markdown",
      "metadata": {
        "id": "Bju9_TeMQBz3"
      },
      "source": [
        " Write a Pandas program to get the first 3 rows of a given DataFrame. Sample"
      ]
    },
    {
      "cell_type": "code",
      "execution_count": null,
      "metadata": {
        "colab": {
          "base_uri": "https://localhost:8080/"
        },
        "id": "nJwOMg--QIh-",
        "outputId": "d4005f1c-1a37-4f67-fa74-6ba29958ec06"
      },
      "outputs": [
        {
          "output_type": "stream",
          "name": "stdout",
          "text": [
            "        name  score  ateempts qualify\n",
            "a  anastasia   12.5         1     yes\n",
            "b       dima    9.0         3      no\n",
            "c  Katherine   16.5         2     yes\n"
          ]
        }
      ],
      "source": [
        "import pandas as pd\n",
        "import numpy as np\n",
        "\n",
        "exam_date = {'name':['anastasia','dima','Katherine','james','emily','michael','matthew','laura','kevin','jonas'],\n",
        "             'score':[12.5,9,16.5,np.nan,9,20,14.5,np.nan,8,19],\n",
        "             'ateempts':[1,3,2,3,2,3,1,1,2,1],\n",
        "             'qualify':['yes','no','yes','no','no','yes','yes','no','no','yes']}\n",
        "labels=['a','b','c','d','e','f','g','h','i','j']\n",
        "\n",
        "df=pd.DataFrame(exam_date, index=labels)\n",
        "#get first three rows from data base\n",
        "print(df.iloc[:3])"
      ]
    },
    {
      "cell_type": "markdown",
      "metadata": {
        "id": "SadWewyZRacZ"
      },
      "source": [
        "4. Write a Pandas program to select the 'name' and 'score' columns from the\n",
        "following DataFrame.\n"
      ]
    },
    {
      "cell_type": "code",
      "execution_count": null,
      "metadata": {
        "colab": {
          "base_uri": "https://localhost:8080/"
        },
        "id": "r1o_f1pAR8bA",
        "outputId": "8638538f-75e4-4017-9f93-0490a9ce36c9"
      },
      "outputs": [
        {
          "output_type": "stream",
          "name": "stdout",
          "text": [
            "        name  score\n",
            "a  anastasia   12.5\n",
            "b       dima    9.0\n",
            "c  Katherine   16.5\n",
            "d      james    NaN\n",
            "e      emily    9.0\n",
            "f    michael   20.0\n",
            "g    matthew   14.5\n",
            "h      laura    NaN\n",
            "i      kevin    8.0\n",
            "j      jonas   19.0\n"
          ]
        }
      ],
      "source": [
        "import pandas as pd\n",
        "import numpy as np\n",
        "\n",
        "\n",
        "exam_date = {'name':['anastasia','dima','Katherine','james','emily','michael','matthew','laura','kevin','jonas'],\n",
        "             'score':[12.5,9,16.5,np.nan,9,20,14.5,np.nan,8,19],\n",
        "             'ateempts':[1,3,2,3,2,3,1,1,2,1],\n",
        "             'qualify':['yes','no','yes','no','no','yes','yes','no','no','yes']}\n",
        "labels=['a','b','c','d','e','f','g','h','i','j']\n",
        "\n",
        "df=pd.DataFrame(exam_date, index=labels)\n",
        "#select specific columns\n",
        "print(df[['name','score']])"
      ]
    },
    {
      "cell_type": "markdown",
      "metadata": {
        "id": "ORAMpi5aSQII"
      },
      "source": [
        "Write a Pandas program to select the rows where the number of attempts in\n",
        "the examination is greater than 2."
      ]
    },
    {
      "cell_type": "code",
      "execution_count": null,
      "metadata": {
        "colab": {
          "base_uri": "https://localhost:8080/"
        },
        "id": "QBRJ5pFjSm_P",
        "outputId": "a156dbc0-b8cb-47ee-ccd9-6a102bdc8c79"
      },
      "outputs": [
        {
          "output_type": "stream",
          "name": "stdout",
          "text": [
            "      name  score  attempts qualify\n",
            "b     dima    9.0         3      no\n",
            "d    james    NaN         3      no\n",
            "f  michael   20.0         3     yes\n"
          ]
        }
      ],
      "source": [
        "import pandas as pd\n",
        "import numpy as np\n",
        "\n",
        "exam_date = {'name':['anastasia','dima','Katherine','james','emily','michael','matthew','laura','kevin','jonas'],\n",
        "             'score':[12.5,9,16.5,np.nan,9,20,14.5,np.nan,8,19],\n",
        "             'attempts':[1,3,2,3,2,3,1,1,2,1],\n",
        "             'qualify':['yes','no','yes','no','no','yes','yes','no','no','yes']}\n",
        "labels=['a','b','c','d','e','f','g','h','i','j']\n",
        "\n",
        "df=pd.DataFrame(exam_date, index=labels)\n",
        "#number of attempts in examination is freater than 2\n",
        "print(df[df['attempts']>2])"
      ]
    },
    {
      "cell_type": "markdown",
      "metadata": {
        "id": "x8FJj7yWTHmk"
      },
      "source": [
        "6. Write a Pandas program to select the rows where the score is missing, i.e.\n",
        "is NaN."
      ]
    },
    {
      "cell_type": "code",
      "execution_count": null,
      "metadata": {
        "colab": {
          "base_uri": "https://localhost:8080/"
        },
        "id": "chsycatxTMfl",
        "outputId": "25119fcb-4cbc-47f8-b88d-5d4ff0ea2919"
      },
      "outputs": [
        {
          "output_type": "stream",
          "name": "stdout",
          "text": [
            "    name  score  attempts qualify\n",
            "d  james    NaN         3      no\n",
            "h  laura    NaN         1      no\n"
          ]
        }
      ],
      "source": [
        "import pandas as pd\n",
        "import numpy as np\n",
        "\n",
        "\n",
        "exam_date = {'name':['anastasia','dima','Katherine','james','emily','michael','matthew','laura','kevin','jonas'],\n",
        "             'score':[12.5,9,16.5,np.nan,9,20,14.5,np.nan,8,19],\n",
        "             'attempts':[1,3,2,3,2,3,1,1,2,1],\n",
        "             'qualify':['yes','no','yes','no','no','yes','yes','no','no','yes']}\n",
        "labels=['a','b','c','d','e','f','g','h','i','j']\n",
        "\n",
        "df=pd.DataFrame(exam_date, index=labels)\n",
        "#rows where score is missing\n",
        "print(df[df['score'].isnull()])"
      ]
    },
    {
      "cell_type": "markdown",
      "metadata": {
        "id": "j0PhKZUfTigF"
      },
      "source": [
        " Write a Pandas program to calculate the mean of all students' scores. Data\n",
        "is stored in a dataframe.\n"
      ]
    },
    {
      "cell_type": "code",
      "execution_count": null,
      "metadata": {
        "colab": {
          "base_uri": "https://localhost:8080/"
        },
        "id": "7yFHmfejTtKC",
        "outputId": "6eff3c70-2c8a-4195-9f95-d549f9996030"
      },
      "outputs": [
        {
          "output_type": "stream",
          "name": "stdout",
          "text": [
            "Mean score for each different student in data frame\n",
            "13.5625\n"
          ]
        }
      ],
      "source": [
        "import pandas as pd\n",
        "import numpy as np\n",
        "\n",
        "\n",
        "exam_date = {'name':['anastasia','dima','Katherine','james','emily','michael','matthew','laura','kevin','jonas'],\n",
        "             'score':[12.5,9,16.5,np.nan,9,20,14.5,np.nan,8,19],\n",
        "             'attempts':[1,3,2,3,2,3,1,1,2,1],\n",
        "             'qualify':['yes','no','yes','no','no','yes','yes','no','no','yes']}\n",
        "labels=['a','b','c','d','e','f','g','h','i','j']\n",
        "\n",
        "df=pd.DataFrame(exam_date, index=labels)\n",
        "print(\"Mean score for each different student in data frame\")\n",
        "print(df['score'].mean())"
      ]
    },
    {
      "cell_type": "markdown",
      "metadata": {
        "id": "JOqP4BdoUV4H"
      },
      "source": [
        "![image.png](data:image/png;base64,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)"
      ]
    },
    {
      "cell_type": "code",
      "execution_count": null,
      "metadata": {
        "colab": {
          "base_uri": "https://localhost:8080/"
        },
        "id": "PXCI-G_TUgz-",
        "outputId": "22a5961a-d384-46f6-b33e-607a75b10950"
      },
      "outputs": [
        {
          "name": "stdout",
          "output_type": "stream",
          "text": [
            "original dataframe\n",
            "  std_id       name  marks\n",
            "0     s1     satish    200\n",
            "1     s2      aryan    210\n",
            "2     s3  pritanshu    190\n",
            "3     s4     oshank    222\n",
            "4     s5       tanu    199\n",
            "\n",
            "\n",
            "  std_id        name  marks\n",
            "0     s4      sakshi    201\n",
            "1     s5       charu    200\n",
            "2     s6      aryan2    198\n",
            "3     s7  priyanshu2    219\n",
            "4     s8     satish2    201\n",
            "\n",
            " join data set \n",
            "  std_id        name  marks\n",
            "0     s1      satish    200\n",
            "1     s2       aryan    210\n",
            "2     s3   pritanshu    190\n",
            "3     s4      oshank    222\n",
            "4     s5        tanu    199\n",
            "0     s4      sakshi    201\n",
            "1     s5       charu    200\n",
            "2     s6      aryan2    198\n",
            "3     s7  priyanshu2    219\n",
            "4     s8     satish2    201\n"
          ]
        }
      ],
      "source": [
        "import pandas as pd\n",
        "data1=pd.DataFrame({\n",
        "    'std_id':['s1','s2','s3','s4','s5'],\n",
        "    'name':['satish','aryan','pritanshu','oshank','tanu'],\n",
        "    'marks':[200,210,190,222,199]})\n",
        "\n",
        "data2=pd.DataFrame({\n",
        "    'std_id':['s4','s5','s6','s7','s8'],\n",
        "    'name':['sakshi','charu','aryan2','priyanshu2','satish2'],\n",
        "    'marks':[201,200,198,219,201]\n",
        "})\n",
        "\n",
        "print(\"original dataframe\")\n",
        "print(data1)\n",
        "print(\"\\n\")\n",
        "print(data2)\n",
        "\n",
        "#concat function use\n",
        "print(\"\\n join data set \")\n",
        "data=pd.concat([data1, data2])\n",
        "print(data)"
      ]
    },
    {
      "cell_type": "markdown",
      "metadata": {
        "id": "0ijO09b-Wow5"
      },
      "source": [
        "9. Write a Pandas program to join the two given dataframes along columns\n",
        "and assign all data."
      ]
    },
    {
      "cell_type": "code",
      "execution_count": null,
      "metadata": {
        "colab": {
          "base_uri": "https://localhost:8080/"
        },
        "id": "n8_NIsfyWzbA",
        "outputId": "afcf78c0-7838-4507-edc8-adb2147df56b"
      },
      "outputs": [
        {
          "name": "stdout",
          "output_type": "stream",
          "text": [
            "original dataframe\n",
            "  std_id       name  marks\n",
            "0     s1     satish    200\n",
            "1     s2      aryan    210\n",
            "2     s3  pritanshu    190\n",
            "3     s4     oshank    222\n",
            "4     s5       tanu    199\n",
            "\n",
            "\n",
            "  std_id        name  marks\n",
            "0     s4      sakshi    201\n",
            "1     s5       charu    200\n",
            "2     s6      aryan2    198\n",
            "3     s7  priyanshu2    219\n",
            "4     s8     satish2    201\n",
            "  std_id       name  marks std_id        name  marks\n",
            "0     s1     satish    200     s4      sakshi    201\n",
            "1     s2      aryan    210     s5       charu    200\n",
            "2     s3  pritanshu    190     s6      aryan2    198\n",
            "3     s4     oshank    222     s7  priyanshu2    219\n",
            "4     s5       tanu    199     s8     satish2    201\n"
          ]
        }
      ],
      "source": [
        "import pandas as pd\n",
        "data1=pd.DataFrame({\n",
        "    'std_id':['s1','s2','s3','s4','s5'],\n",
        "    'name':['satish','aryan','pritanshu','oshank','tanu'],\n",
        "    'marks':[200,210,190,222,199]})\n",
        "\n",
        "data2=pd.DataFrame({\n",
        "    'std_id':['s4','s5','s6','s7','s8'],\n",
        "    'name':['sakshi','charu','aryan2','priyanshu2','satish2'],\n",
        "    'marks':[201,200,198,219,201]\n",
        "})\n",
        "\n",
        "print(\"original dataframe\")\n",
        "print(data1)\n",
        "print(\"\\n\")\n",
        "print(data2)\n",
        "# join two data set along with columns\n",
        "data=pd.concat([data1, data2], axis=1)\n",
        "print(data)"
      ]
    },
    {
      "cell_type": "markdown",
      "metadata": {
        "id": "0BkiKHOdXg-z"
      },
      "source": [
        "10. Write a Pandas program to append rows to an existing DataFrame and\n",
        "display the combined data.\n",
        "Test Data:\n",
        "Pandas Exercises\n",
        "tudent_data1\n",
        " student_id name marks\n",
        "0 S1 Danniella Fenton 200\n",
        "1 S2 Ryder Storey 210\n",
        "2 S3 Bryce Jensen 190\n",
        "3 S4 Ed Bernal 222\n",
        "4 S5 Kwame Morin 199\n",
        "New Row(s)\n",
        "student_id S6\n",
        "name Scarlette Fisher\n",
        "marks 205\n",
        "dtype: object\n"
      ]
    },
    {
      "cell_type": "code",
      "execution_count": null,
      "metadata": {
        "colab": {
          "base_uri": "https://localhost:8080/"
        },
        "id": "H3PpJZRFXiCg",
        "outputId": "837bae1c-15aa-45dc-d546-dba5bdb89619"
      },
      "outputs": [
        {
          "name": "stdout",
          "output_type": "stream",
          "text": [
            "original data frames \n",
            "  std_id       name  marks\n",
            "0     s1     satish    200\n",
            "1     s2      aryan    210\n",
            "2     s3  priyanshu    190\n",
            "3     s4     oshank    222\n",
            "4     s5       tanu    199\n",
            "new row\n",
            "\n",
            " std_id         s6\n",
            "name      satish1\n",
            "marks         205\n",
            "dtype: object\n",
            "\n",
            " new data\n",
            "  std_id       name  marks\n",
            "0     s1     satish    200\n",
            "1     s2      aryan    210\n",
            "2     s3  priyanshu    190\n",
            "3     s4     oshank    222\n",
            "4     s5       tanu    199\n",
            "5     s6    satish1    205\n"
          ]
        },
        {
          "name": "stderr",
          "output_type": "stream",
          "text": [
            "<ipython-input-20-e8d823282502>:14: FutureWarning: The frame.append method is deprecated and will be removed from pandas in a future version. Use pandas.concat instead.\n",
            "  data=data1.append(s6,ignore_index=True)\n"
          ]
        }
      ],
      "source": [
        "import pandas as pd\n",
        "data1=pd.DataFrame({\n",
        "    'std_id':['s1','s2','s3','s4','s5'],\n",
        "    'name':['satish','aryan','priyanshu','oshank','tanu'],\n",
        "    'marks':[200,210,190,222,199]\n",
        "})\n",
        "\n",
        "s6=pd.Series(['s6',\"satish1\",205],index=['std_id','name','marks'])\n",
        "print(\"original data frames \")\n",
        "print(data1)\n",
        "\n",
        "print(\"new row\")\n",
        "print(\"\\n\", s6)\n",
        "data=data1.append(s6,ignore_index=True)\n",
        "print(\"\\n new data\")\n",
        "print(data)"
      ]
    },
    {
      "cell_type": "markdown",
      "metadata": {
        "id": "M0r8VyTAZw-d"
      },
      "source": [
        "Write a Pandas program to display the dimensions or shape of the World\n",
        "alcohol consumption dataset. Also extract the column names from the dataset.\n",
        "Test Data:\n",
        " Year WHO region Country Beverage Types Display Value\n",
        "0 1986 Western Pacific Viet Nam Wine 0.00\n",
        "1 1986 Americas Uruguay Other 0.50\n",
        "2 1985 Africa Cte d'Ivoire Wine 1.62\n",
        "3 1986 Americas Colombia Beer 4.27\n",
        "4 1987 Americas Saint Kitts and Nevis Beer 1.98"
      ]
    },
    {
      "cell_type": "code",
      "execution_count": null,
      "metadata": {
        "colab": {
          "base_uri": "https://localhost:8080/"
        },
        "id": "WsKpr3R3Zy-X",
        "outputId": "7803f8b6-4f35-48c1-9e75-b8df1e797073"
      },
      "outputs": [
        {
          "name": "stdout",
          "output_type": "stream",
          "text": [
            "   year       Who region       country beverage  types  display value\n",
            "0  1986  western pacific                vietnam   wine           0.00\n",
            "1  1986         americas                uruguay  other           0.50\n",
            "2  1985           africa          cate d ivoire   wine           1.62\n",
            "3  1986          america               colombia   beer           4.27\n",
            "4  1987         americas  saint kitts and nevis   beer           1.98\n",
            "\n",
            " \n",
            " \n",
            "['year', 'Who region', 'country beverage', 'types', 'display value']\n",
            "['1986', 'western pacific', 'vietnam', 'wine', '0.0']\n",
            "['1986', 'americas', 'uruguay', 'other', '0.5']\n",
            "['1985', 'africa', 'cate d ivoire', 'wine', '1.62']\n",
            "['1986', 'america', 'colombia', 'beer', '4.27']\n",
            "['1987', 'americas', 'saint kitts and nevis', 'beer', '1.98']\n"
          ]
        }
      ],
      "source": [
        "import pandas as pd\n",
        "import csv\n",
        "\n",
        "data=pd.DataFrame({\n",
        "    'year':[1986,1986,1985,1986,1987],\n",
        "    'Who region':['western pacific','americas','africa','america','americas'],\n",
        "    'country beverage':['vietnam','uruguay','cate d ivoire','colombia','saint kitts and nevis'],\n",
        "    'types':['wine','other','wine','beer','beer'],\n",
        "    'display value':[0.00,0.50,1.62,4.27,1.98]\n",
        "})\n",
        "print(data)\n",
        "data.to_csv('data4.csv', index=False)\n",
        "print(\"\\n \\n \")\n",
        "\n",
        "with open('data4.csv', mode='r') as file:\n",
        "  csvFile=csv.reader(file)\n",
        "  for lines in csvFile:\n",
        "    print(lines)\n"
      ]
    },
    {
      "cell_type": "code",
      "execution_count": null,
      "metadata": {
        "colab": {
          "base_uri": "https://localhost:8080/"
        },
        "id": "OSPYX8MNajpJ",
        "outputId": "0c920a3d-d4ae-44e4-ef16-78cf8a30f036"
      },
      "outputs": [
        {
          "name": "stdout",
          "output_type": "stream",
          "text": [
            "sample data \n",
            "   year       Who region       country beverage  types  display value\n",
            "0  1986  western pacific                vietnam   wine           0.00\n",
            "1  1986         americas                uruguay  other           0.50\n",
            "2  1985           africa          cate d ivoire   wine           1.62\n",
            "3  1986          america               colombia   beer           4.27\n",
            "4  1987         americas  saint kitts and nevis   beer           1.98\n",
            "\n",
            " Shape of the dataframe: (5, 5)\n",
            "\n",
            " number of rows; 5\n",
            "\n",
            " number of column: 5\n",
            "\n",
            " extrac column names:\n",
            "Index(['year', 'Who region', 'country beverage', 'types', 'display value'], dtype='object')\n"
          ]
        }
      ],
      "source": [
        "import pandas as pd\n",
        "\n",
        "data=pd.read_csv('data4.csv')\n",
        "print(\"sample data \")\n",
        "print(data.head())\n",
        "print('\\n Shape of the dataframe:',data.shape)\n",
        "print('\\n number of rows;',data.shape[0])\n",
        "print('\\n number of column:',data.shape[1])\n",
        "print(\"\\n extrac column names:\")\n",
        "print(data.columns)"
      ]
    }
  ],
  "metadata": {
    "colab": {
      "provenance": [],
      "authorship_tag": "ABX9TyNdXGLpwWs7xIZ/ARcyCY3U",
      "include_colab_link": true
    },
    "kernelspec": {
      "display_name": "Python 3",
      "name": "python3"
    },
    "language_info": {
      "name": "python"
    }
  },
  "nbformat": 4,
  "nbformat_minor": 0
}