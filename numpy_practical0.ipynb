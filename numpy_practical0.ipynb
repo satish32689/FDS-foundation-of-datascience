{
  "nbformat": 4,
  "nbformat_minor": 0,
  "metadata": {
    "colab": {
      "provenance": [],
      "authorship_tag": "ABX9TyPQc+hgKGXCLLNxYGnTQn1Q",
      "include_colab_link": true
    },
    "kernelspec": {
      "name": "python3",
      "display_name": "Python 3"
    },
    "language_info": {
      "name": "python"
    }
  },
  "cells": [
    {
      "cell_type": "markdown",
      "metadata": {
        "id": "view-in-github",
        "colab_type": "text"
      },
      "source": [
        "<a href=\"https://colab.research.google.com/github/satish32689/FDS-foundation-of-datascience/blob/main/numpy_practical0.ipynb\" target=\"_parent\"><img src=\"https://colab.research.google.com/assets/colab-badge.svg\" alt=\"Open In Colab\"/></a>"
      ]
    },
    {
      "cell_type": "code",
      "source": [
        "import numpy as np\n",
        "print(np.__version__)"
      ],
      "metadata": {
        "colab": {
          "base_uri": "https://localhost:8080/"
        },
        "id": "04LHDWbyRN02",
        "outputId": "9cf13cb2-1c9e-4b92-c9e7-302552c0c3a7"
      },
      "execution_count": null,
      "outputs": [
        {
          "output_type": "stream",
          "name": "stdout",
          "text": [
            "1.23.5\n"
          ]
        }
      ]
    },
    {
      "cell_type": "code",
      "source": [],
      "metadata": {
        "id": "O4i28r3LKLJ7"
      },
      "execution_count": null,
      "outputs": []
    },
    {
      "cell_type": "code",
      "execution_count": null,
      "metadata": {
        "colab": {
          "base_uri": "https://localhost:8080/"
        },
        "id": "2sHHd-eZBS8M",
        "outputId": "e8333202-7c0f-4a9b-8ab4-2d91a9d28748"
      },
      "outputs": [
        {
          "output_type": "stream",
          "name": "stdout",
          "text": [
            "original array: [1 2 3 4 5]\n",
            "test if non of the elements of the said array is 0:\n",
            "True\n",
            "original array: [0 1 2 3 4 5]\n",
            "test if non of the elements of the said array is 0:\n",
            "False\n"
          ]
        }
      ],
      "source": [
        "\"\"\"Write a NumPy program to test whether none of the\n",
        "elements of a given array are zero.\n",
        "\"\"\"\n",
        "\n",
        "import numpy as np\n",
        "s=np.array([1,2,3,4,5])\n",
        "\n",
        "print(\"original array:\",s)\n",
        "print(\"test if non of the elements of the said array is 0:\")\n",
        "print(np.all(s))\n",
        "\n",
        "s=np.array([0,1,2,3,4,5])\n",
        "\n",
        "print(\"original array:\",s)\n",
        "print(\"test if non of the elements of the said array is 0:\")\n",
        "print(np.all(s))\n"
      ]
    },
    {
      "cell_type": "code",
      "source": [],
      "metadata": {
        "id": "J9QSyxuiR14g"
      },
      "execution_count": null,
      "outputs": []
    },
    {
      "cell_type": "code",
      "source": [
        "\"\"\"Write a NumPy program to create an element-wise\n",
        "comparison (greater, greater_equal, less and less_equal) of\n",
        "two given arrays.\"\"\"\n",
        "\n",
        "import numpy as np\n",
        "s=np.array([2,3,6])\n",
        "p=np.array([1,4,6])\n",
        "\n",
        "print(\"original number :\",s,p)\n",
        "print(\"---------------\")\n",
        "print(\"comparison-grater between s to p\",np.greater(s,p))\n",
        "print(\"comparison-grater between p to s\",np.greater(p,s))\n",
        "print(\"---------------\")\n",
        "print(\"comparison- greater equal between s to p\",np.greater_equal(s,p))\n",
        "print(\"comparison- greater equal between p to s\",np.greater_equal(p,s))\n",
        "print(\"---------------\")\n",
        "print(\"comparison-grater between s to p\",np.less(s,p))\n",
        "print(\"comparison-grater between p to s\",np.less(p,s))\n",
        "print(\"---------------\")\n",
        "print(\"comparison- greater equal between s to p\",np.less_equal(s,p))\n",
        "print(\"comparison- greater equal between p to s\",np.less_equal(p,s))\n"
      ],
      "metadata": {
        "colab": {
          "base_uri": "https://localhost:8080/"
        },
        "id": "r_H0y4IsCUqT",
        "outputId": "02363cdc-e1ef-4ada-bf64-3e1269a4aa76"
      },
      "execution_count": null,
      "outputs": [
        {
          "output_type": "stream",
          "name": "stdout",
          "text": [
            "original number : [2 3 6] [1 4 6]\n",
            "---------------\n",
            "comparison-grater between s to p [ True False False]\n",
            "comparison-grater between p to s [False  True False]\n",
            "---------------\n",
            "comparison- greater equal between s to p [ True False  True]\n",
            "comparison- greater equal between p to s [False  True  True]\n",
            "---------------\n",
            "comparison-grater between s to p [False  True False]\n",
            "comparison-grater between p to s [ True False False]\n",
            "---------------\n",
            "comparison- greater equal between s to p [False  True  True]\n",
            "comparison- greater equal between p to s [ True False  True]\n"
          ]
        }
      ]
    },
    {
      "cell_type": "code",
      "source": [
        "\"\"\"Write a NumPy program to create an array with the values\n",
        "1, 7, 13, 105 and determine the size of the memory occupied\n",
        "by the array.\"\"\"\n",
        "\n",
        "import numpy as np\n",
        "\n",
        "b=np.array([1,7,12,105])\n",
        "c=np.array([2,6,852])\n",
        "print(\"original arry:\",b,c)\n",
        "print(\"---------------\")\n",
        "\n",
        "print(\"Size of the memory occupied by the said array:\")\n",
        "print(\"%d bytes\" % (b.size*b.itemsize))\n",
        "print(\"%d bytes\" % (c.size*c.itemsize))\n"
      ],
      "metadata": {
        "colab": {
          "base_uri": "https://localhost:8080/"
        },
        "id": "Na6sXJaXF0f2",
        "outputId": "6fabdf8a-e37d-4b6a-a18f-7b862e6c1bd5"
      },
      "execution_count": null,
      "outputs": [
        {
          "output_type": "stream",
          "name": "stdout",
          "text": [
            "original arry: [  1   7  12 105] [  2   6 852]\n",
            "---------------\n",
            "Size of the memory occupied by the said array:\n",
            "32 bytes\n",
            "24 bytes\n"
          ]
        }
      ]
    },
    {
      "cell_type": "code",
      "source": [
        "\"\"\"Write a NumPy program to create an array of integers\n",
        "from 30 to 70.\"\"\"\n",
        "\n",
        "import numpy as np\n",
        "r=np.arange(30, 71)\n",
        "print(\"array of the integers from 30 to 70\",r)\n"
      ],
      "metadata": {
        "colab": {
          "base_uri": "https://localhost:8080/"
        },
        "id": "QFeJ_4M_FrVu",
        "outputId": "3506d6ca-1173-45d1-d283-5377b5bb4cb0"
      },
      "execution_count": null,
      "outputs": [
        {
          "output_type": "stream",
          "name": "stdout",
          "text": [
            "array of the integers from 30 to 70 [30 31 32 33 34 35 36 37 38 39 40 41 42 43 44 45 46 47 48 49 50 51 52 53\n",
            " 54 55 56 57 58 59 60 61 62 63 64 65 66 67 68 69 70]\n"
          ]
        }
      ]
    },
    {
      "cell_type": "code",
      "source": [
        "\"\"\"Write a NumPy program to create an array of all even\n",
        "integers from 30 to 70.\"\"\"\n",
        "\n",
        "import numpy as np\n",
        "t=np.arange(30,71,2)\n",
        "print(\"array of all the even integers from 30 to 70\",t)"
      ],
      "metadata": {
        "colab": {
          "base_uri": "https://localhost:8080/"
        },
        "id": "tpEBtovTIOKO",
        "outputId": "1f9c2214-935b-4d08-b1c1-cdee96f11cfb"
      },
      "execution_count": null,
      "outputs": [
        {
          "output_type": "stream",
          "name": "stdout",
          "text": [
            "array of all the even integers from 30 to 70 [30 32 34 36 38 40 42 44 46 48 50 52 54 56 58 60 62 64 66 68 70]\n"
          ]
        }
      ]
    },
    {
      "cell_type": "code",
      "source": [
        "#odd number\n",
        "\n",
        "import numpy as np\n",
        "t=np.arange(30+(30+1)%2,71,2)\n",
        "print(\"array of all the odd integers from 30 to 70\",t)"
      ],
      "metadata": {
        "colab": {
          "base_uri": "https://localhost:8080/"
        },
        "id": "LGDipjcpI1FP",
        "outputId": "cab9ef2a-cefe-4192-9461-5063ca0729f6"
      },
      "execution_count": null,
      "outputs": [
        {
          "output_type": "stream",
          "name": "stdout",
          "text": [
            "array of all the odd integers from 30 to 70 [31 33 35 37 39 41 43 45 47 49 51 53 55 57 59 61 63 65 67 69]\n"
          ]
        }
      ]
    },
    {
      "cell_type": "code",
      "source": [
        "\"\"\"Write a NumPy program to create a 3x3 identity matrix.\"\"\"\n",
        "\n",
        "import numpy as n\n",
        "y2d=n.identity(3)\n",
        "\n",
        "print('3x3 matrix:',y2d)"
      ],
      "metadata": {
        "colab": {
          "base_uri": "https://localhost:8080/"
        },
        "id": "f2XFk_AUJlBV",
        "outputId": "6765eaca-02d7-4d7a-de31-350eff765cef"
      },
      "execution_count": null,
      "outputs": [
        {
          "output_type": "stream",
          "name": "stdout",
          "text": [
            "3x3 matrix: [[1. 0. 0.]\n",
            " [0. 1. 0.]\n",
            " [0. 0. 1.]]\n"
          ]
        }
      ]
    },
    {
      "cell_type": "code",
      "source": [
        "\"\"\"Write a search NumPy program to create a 3X4 array and\n",
        "iterate over it.\"\"\"\n",
        "\n",
        "import numpy as n\n",
        "g=n.arange(10,22).reshape((3,4))\n",
        "\n",
        "print('original array:',g)\n",
        "print('Each element of the array is:')\n",
        "for c in n.nditer(g):\n",
        "  print(c, end=\" \")"
      ],
      "metadata": {
        "colab": {
          "base_uri": "https://localhost:8080/"
        },
        "id": "5I1qNet1KFEB",
        "outputId": "eec0f76a-e9c5-42fe-e417-39602611e81c"
      },
      "execution_count": null,
      "outputs": [
        {
          "output_type": "stream",
          "name": "stdout",
          "text": [
            "original array: [[10 11 12 13]\n",
            " [14 15 16 17]\n",
            " [18 19 20 21]]\n",
            "Each element of the array is:\n",
            "10 11 12 13 14 15 16 17 18 19 20 21 "
          ]
        }
      ]
    },
    {
      "cell_type": "code",
      "source": [
        "import numpy as n\n",
        "g=n.arange(20,36).reshape((4,4))\n",
        "\n",
        "print('original array:',g)\n",
        "print('Each element of the array is:')\n",
        "for c in n.nditer(g):\n",
        "  print(c, end=\" \")"
      ],
      "metadata": {
        "colab": {
          "base_uri": "https://localhost:8080/"
        },
        "id": "g8i7rwbaLCzm",
        "outputId": "cd290a43-f6b3-41ed-d17b-1689c0da4b93"
      },
      "execution_count": null,
      "outputs": [
        {
          "output_type": "stream",
          "name": "stdout",
          "text": [
            "original array: [[20 21 22 23]\n",
            " [24 25 26 27]\n",
            " [28 29 30 31]\n",
            " [32 33 34 35]]\n",
            "Each element of the array is:\n",
            "20 21 22 23 24 25 26 27 28 29 30 31 32 33 34 35 "
          ]
        }
      ]
    }
  ]
}